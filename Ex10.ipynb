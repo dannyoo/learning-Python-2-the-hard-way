{
 "cells": [
  {
   "cell_type": "code",
   "execution_count": 4,
   "metadata": {},
   "outputs": [
    {
     "name": "stdout",
     "output_type": "stream",
     "text": [
      "I am 6'2\" tall.\n",
      "I am 6'2\" tall.\n",
      "I'm twelve \"feet\" tall.\n"
     ]
    }
   ],
   "source": [
    "print \"I am 6'2\\\" tall.\" # escape double-quote inside string \n",
    "print 'I am 6\\'2\" tall.' # escape single-quote inside string\n",
    "print \"\"\"I'm twelve \"feet\" tall.\"\"\" #Test"
   ]
  },
  {
   "cell_type": "code",
   "execution_count": 11,
   "metadata": {},
   "outputs": [
    {
     "name": "stdout",
     "output_type": "stream",
     "text": [
      "\tI'm tabbed in.\n",
      "I'm split\n",
      "on a line.\n",
      "I'm \\ a \\ cat.\n",
      "\n",
      "I'll do a list:\n",
      "\t* Cat food\n",
      "\t* Fishies\n",
      "\t* Catnip\n",
      "\t* Grass \n"
     ]
    }
   ],
   "source": [
    "tabby_cat = \"\\tI'm tabbed in.\" \n",
    "persian_cat = \"I'm split\\non a line.\" \n",
    "backslash_cat = \"I'm \\\\ a \\\\ cat.\"\n",
    "fat_cat = \"\"\"\n",
    "I'll do a list:\n",
    "\\t* Cat food\n",
    "\\t* Fishies\n",
    "\\t* Catnip\\n\\t* Grass \"\"\"\n",
    "print tabby_cat \n",
    "print persian_cat \n",
    "print backslash_cat \n",
    "print fat_cat"
   ]
  },
  {
   "cell_type": "code",
   "execution_count": null,
   "metadata": {},
   "outputs": [],
   "source": []
  }
 ],
 "metadata": {
  "kernelspec": {
   "display_name": "Python 2",
   "language": "python",
   "name": "python2"
  },
  "language_info": {
   "codemirror_mode": {
    "name": "ipython",
    "version": 2
   },
   "file_extension": ".py",
   "mimetype": "text/x-python",
   "name": "python",
   "nbconvert_exporter": "python",
   "pygments_lexer": "ipython2",
   "version": "2.7.13"
  }
 },
 "nbformat": 4,
 "nbformat_minor": 2
}
